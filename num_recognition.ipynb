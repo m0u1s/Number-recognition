{
 "cells": [
  {
   "cell_type": "code",
   "execution_count": 8,
   "metadata": {},
   "outputs": [],
   "source": [
    "import torch\n",
    "import torch.nn as nn\n",
    "import torch.nn.functional as F\n",
    "\n",
    "import torch.optim as optim\n",
    "from torchvision import datasets, transforms\n",
    "from torch.utils.data import DataLoader\n",
    "\n",
    "import matplotlib.pyplot as plt\n",
    "\n",
    "import numpy as np\n",
    "import tkinter as tk\n",
    "from PIL import Image, ImageOps, ImageDraw"
   ]
  },
  {
   "cell_type": "code",
   "execution_count": 9,
   "metadata": {},
   "outputs": [
    {
     "name": "stdout",
     "output_type": "stream",
     "text": [
      "MyCNN(\n",
      "  (conv1): Conv2d(1, 32, kernel_size=(3, 3), stride=(1, 1))\n",
      "  (bn1): BatchNorm2d(32, eps=1e-05, momentum=0.1, affine=True, track_running_stats=True)\n",
      "  (conv2): Conv2d(32, 64, kernel_size=(3, 3), stride=(1, 1))\n",
      "  (bn2): BatchNorm2d(64, eps=1e-05, momentum=0.1, affine=True, track_running_stats=True)\n",
      "  (conv3): Conv2d(64, 128, kernel_size=(3, 3), stride=(1, 1))\n",
      "  (bn3): BatchNorm2d(128, eps=1e-05, momentum=0.1, affine=True, track_running_stats=True)\n",
      "  (pool): MaxPool2d(kernel_size=2, stride=2, padding=0, dilation=1, ceil_mode=False)\n",
      "  (dropout): Dropout2d(p=0.25, inplace=False)\n",
      "  (fc1): Linear(in_features=15488, out_features=128, bias=True)\n",
      "  (bn4): BatchNorm1d(128, eps=1e-05, momentum=0.1, affine=True, track_running_stats=True)\n",
      "  (fc2): Linear(in_features=128, out_features=10, bias=True)\n",
      ")\n"
     ]
    }
   ],
   "source": [
    "class MyCNN(nn.Module):\n",
    "    def __init__(self):\n",
    "        super(MyCNN, self).__init__()\n",
    "        self.conv1 = nn.Conv2d(1, 32, kernel_size=3)\n",
    "        self.bn1 = nn.BatchNorm2d(32)\n",
    "        self.conv2 = nn.Conv2d(32, 64, kernel_size=3)\n",
    "        self.bn2 = nn.BatchNorm2d(64)\n",
    "        self.conv3 = nn.Conv2d(64, 128, kernel_size=3)\n",
    "        self.bn3 = nn.BatchNorm2d(128)\n",
    "        self.pool = nn.MaxPool2d(2)\n",
    "        self.dropout = nn.Dropout2d(0.25)\n",
    "        self.fc1 = nn.Linear(128 * 11 * 11, 128)\n",
    "        self.bn4 = nn.BatchNorm1d(128)\n",
    "        self.fc2 = nn.Linear(128, 10)\n",
    "\n",
    "    def forward(self, x):\n",
    "        x = F.relu(self.bn1(self.conv1(x)))\n",
    "        x = F.relu(self.bn2(self.conv2(x)))\n",
    "        x = self.pool(F.relu(self.bn3(self.conv3(x))))\n",
    "        x = self.dropout(x)\n",
    "        x = x.view(-1, 128 * 11 * 11) \n",
    "        x = F.relu(self.bn4(self.fc1(x)))\n",
    "        x = F.dropout(x, training=self.training)\n",
    "        x = self.fc2(x)\n",
    "        return F.log_softmax(x, dim=1)\n",
    "\n",
    "model = MyCNN()\n",
    "print(model)"
   ]
  },
  {
   "cell_type": "code",
   "execution_count": 10,
   "metadata": {},
   "outputs": [
    {
     "name": "stdout",
     "output_type": "stream",
     "text": [
      "[Epoch 1, Mini-batch   100] Loss: 0.489\n",
      "[Epoch 1, Mini-batch   200] Loss: 0.190\n",
      "[Epoch 1, Mini-batch   300] Loss: 0.157\n",
      "[Epoch 1, Mini-batch   400] Loss: 0.129\n",
      "[Epoch 1, Mini-batch   500] Loss: 0.125\n",
      "[Epoch 1, Mini-batch   600] Loss: 0.119\n",
      "[Epoch 1, Mini-batch   700] Loss: 0.104\n",
      "[Epoch 1, Mini-batch   800] Loss: 0.112\n",
      "[Epoch 1, Mini-batch   900] Loss: 0.093\n",
      "[Epoch 2, Mini-batch   100] Loss: 0.085\n",
      "[Epoch 2, Mini-batch   200] Loss: 0.090\n",
      "[Epoch 2, Mini-batch   300] Loss: 0.078\n",
      "[Epoch 2, Mini-batch   400] Loss: 0.088\n",
      "[Epoch 2, Mini-batch   500] Loss: 0.075\n",
      "[Epoch 2, Mini-batch   600] Loss: 0.068\n",
      "[Epoch 2, Mini-batch   700] Loss: 0.069\n",
      "[Epoch 2, Mini-batch   800] Loss: 0.072\n",
      "[Epoch 2, Mini-batch   900] Loss: 0.059\n",
      "[Epoch 3, Mini-batch   100] Loss: 0.064\n",
      "[Epoch 3, Mini-batch   200] Loss: 0.052\n",
      "[Epoch 3, Mini-batch   300] Loss: 0.066\n",
      "[Epoch 3, Mini-batch   400] Loss: 0.052\n",
      "[Epoch 3, Mini-batch   500] Loss: 0.069\n",
      "[Epoch 3, Mini-batch   600] Loss: 0.051\n",
      "[Epoch 3, Mini-batch   700] Loss: 0.052\n",
      "[Epoch 3, Mini-batch   800] Loss: 0.059\n",
      "[Epoch 3, Mini-batch   900] Loss: 0.063\n",
      "[Epoch 4, Mini-batch   100] Loss: 0.058\n",
      "[Epoch 4, Mini-batch   200] Loss: 0.044\n",
      "[Epoch 4, Mini-batch   300] Loss: 0.059\n",
      "[Epoch 4, Mini-batch   400] Loss: 0.052\n",
      "[Epoch 4, Mini-batch   500] Loss: 0.044\n",
      "[Epoch 4, Mini-batch   600] Loss: 0.052\n",
      "[Epoch 4, Mini-batch   700] Loss: 0.047\n",
      "[Epoch 4, Mini-batch   800] Loss: 0.042\n",
      "[Epoch 4, Mini-batch   900] Loss: 0.060\n",
      "[Epoch 5, Mini-batch   100] Loss: 0.042\n",
      "[Epoch 5, Mini-batch   200] Loss: 0.045\n",
      "[Epoch 5, Mini-batch   300] Loss: 0.034\n",
      "[Epoch 5, Mini-batch   400] Loss: 0.049\n",
      "[Epoch 5, Mini-batch   500] Loss: 0.038\n",
      "[Epoch 5, Mini-batch   600] Loss: 0.042\n",
      "[Epoch 5, Mini-batch   700] Loss: 0.044\n",
      "[Epoch 5, Mini-batch   800] Loss: 0.043\n",
      "[Epoch 5, Mini-batch   900] Loss: 0.039\n"
     ]
    }
   ],
   "source": [
    "transform = transforms.Compose([\n",
    "    transforms.ToTensor(), \n",
    "    transforms.Normalize((0.1307,), (0.3081,))\n",
    "])\n",
    "\n",
    "train_dataset = datasets.MNIST('./data', train=True, download=True, transform=transform)\n",
    "train_loader = DataLoader(train_dataset, batch_size=64, shuffle=True)\n",
    "\n",
    "model = MyCNN()\n",
    "\n",
    "#Cross entropy\n",
    "criterion = nn.CrossEntropyLoss() \n",
    "optimizer = optim.SGD(model.parameters(), lr=0.01, momentum=0.9)\n",
    "\n",
    "num_epochs = 5\n",
    "for epoch in range(num_epochs):\n",
    "    running_loss = 0.0\n",
    "    for i, (inputs, labels) in enumerate(train_loader):\n",
    "        optimizer.zero_grad()\n",
    "\n",
    "        outputs = model(inputs)\n",
    "        \n",
    "        loss = criterion(outputs, labels)\n",
    "        \n",
    "        loss.backward()\n",
    "        optimizer.step()\n",
    "\n",
    "        running_loss += loss.item()\n",
    "        if (i+1) % 100 == 0: \n",
    "            print('[Epoch %d, Mini-batch %5d] Loss: %.3f' %\n",
    "                  (epoch + 1, i + 1, running_loss / 100))\n",
    "            running_loss = 0.0\n"
   ]
  },
  {
   "cell_type": "code",
   "execution_count": 11,
   "metadata": {},
   "outputs": [
    {
     "name": "stdout",
     "output_type": "stream",
     "text": [
      "Accuracy on the validation set: 99.30%\n"
     ]
    }
   ],
   "source": [
    "\n",
    "val_dataset = datasets.MNIST('./data', train=False, download=True, transform=transform)\n",
    "val_loader = DataLoader(val_dataset, batch_size=64, shuffle=False)\n",
    "\n",
    "model.eval()\n",
    "\n",
    "correct = 0\n",
    "total = 0\n",
    "\n",
    "with torch.no_grad():\n",
    "    for images, labels in val_loader:\n",
    "        outputs = model(images)\n",
    "        _, predicted = torch.max(outputs.data, 1)\n",
    "        total += labels.size(0)\n",
    "        correct += (predicted == labels).sum().item()\n",
    "\n",
    "accuracy = 100 * correct / total\n",
    "print('Accuracy on the validation set: {:.2f}%'.format(accuracy))"
   ]
  },
  {
   "cell_type": "code",
   "execution_count": 12,
   "metadata": {},
   "outputs": [
    {
     "name": "stdout",
     "output_type": "stream",
     "text": [
      "Model saved to my_cnn_model.pth\n"
     ]
    }
   ],
   "source": [
    "model_save_path = 'my_cnn_model.pth'\n",
    "\n",
    "torch.save(model.state_dict(), model_save_path)\n",
    "print(f'Model saved to {model_save_path}')\n"
   ]
  },
  {
   "cell_type": "code",
   "execution_count": 13,
   "metadata": {},
   "outputs": [],
   "source": [
    "\n",
    "# Load trained model \n",
    "model = MyCNN()\n",
    "model.load_state_dict(torch.load('model.pth'))\n",
    "model.eval()\n",
    "\n",
    "class DrawApp:\n",
    "    def __init__(self, root):\n",
    "        self.root = root\n",
    "        self.root.title(\"Draw a digit\")\n",
    "        self.canvas = tk.Canvas(root, width=200, height=200, bg='white')\n",
    "        self.canvas.pack()\n",
    "        self.canvas.bind(\"<B1-Motion>\", self.paint)\n",
    "        self.button_clear = tk.Button(root, text=\"Clear\", command=self.clear)\n",
    "        self.button_clear.pack()\n",
    "        self.button_predict = tk.Button(root, text=\"Predict\", command=self.predict)\n",
    "        self.button_predict.pack()\n",
    "        self.label = tk.Label(root, text=\"\", font=(\"Helvetica\", 24))\n",
    "        self.label.pack()\n",
    "        self.image = Image.new(\"L\", (200, 200), color=255)\n",
    "        self.draw = ImageDraw.Draw(self.image)\n",
    "\n",
    "    def paint(self, event):\n",
    "        x1, y1 = (event.x - 8), (event.y - 8)\n",
    "        x2, y2 = (event.x + 8), (event.y + 8)\n",
    "        self.canvas.create_oval(x1, y1, x2, y2, fill=\"black\", width=5)\n",
    "        self.draw.ellipse([x1, y1, x2, y2], fill=0)\n",
    "\n",
    "    def clear(self):\n",
    "        self.canvas.delete(\"all\")\n",
    "        self.image = Image.new(\"L\", (200, 200), color=255)\n",
    "        self.draw = ImageDraw.Draw(self.image)\n",
    "        self.label.config(text=\"\")\n",
    "\n",
    "    def predict(self):\n",
    "        # Preprocess the image\n",
    "        img = self.image.resize((28, 28))\n",
    "        img = ImageOps.invert(img)\n",
    "        img = np.array(img).astype(np.float32) / 255.0\n",
    "        img = torch.tensor(img).unsqueeze(0).unsqueeze(0)\n",
    "\n",
    "        # Make prediction\n",
    "        with torch.no_grad():\n",
    "            output = model(img)\n",
    "            pred = output.argmax(dim=1, keepdim=True)\n",
    "\n",
    "        # Display the prediction\n",
    "        self.label.config(text=f'Predicted Digit: {pred.item()}')\n",
    "\n",
    "root = tk.Tk()\n",
    "app = DrawApp(root)\n",
    "root.mainloop()\n"
   ]
  }
 ],
 "metadata": {
  "kernelspec": {
   "display_name": "Python 3",
   "language": "python",
   "name": "python3"
  },
  "language_info": {
   "codemirror_mode": {
    "name": "ipython",
    "version": 3
   },
   "file_extension": ".py",
   "mimetype": "text/x-python",
   "name": "python",
   "nbconvert_exporter": "python",
   "pygments_lexer": "ipython3",
   "version": "3.11.8"
  }
 },
 "nbformat": 4,
 "nbformat_minor": 2
}
